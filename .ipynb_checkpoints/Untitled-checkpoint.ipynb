{
 "cells": [
  {
   "cell_type": "code",
   "execution_count": 22,
   "metadata": {
    "collapsed": true
   },
   "outputs": [],
   "source": [
    "import requests, json\n",
    "import asyncio\n",
    "import http\n",
    "import io\n",
    "import json\n",
    "import re\n",
    "import os\n",
    "\n",
    "import aiohttp\n",
    "import gidgethub\n",
    "import gidgethub.aiohttp\n",
    "from functools import wraps\n",
    "\n",
    "from aiohttp import web\n",
    "loop = asyncio.get_event_loop()"
   ]
  },
  {
   "cell_type": "code",
   "execution_count": 23,
   "metadata": {
    "collapsed": true
   },
   "outputs": [],
   "source": [
    "swagger_url = 'https://raw.githubusercontent.com/Azure/azure-sdk-for-python/master/swagger_to_sdk_config.json' \n",
    "git_url = 'https://api.github.com/repos/Azure/azure-rest-api-specs/'\n",
    "oauth_token =\"767d1a76e004ec56d5d57c7394974a9e6b7a6a0e\"\n",
    "this_repo = \"https://api.github.com/repos/indyavik/azuresdk/issues\""
   ]
  },
  {
   "cell_type": "code",
   "execution_count": 57,
   "metadata": {
    "collapsed": true
   },
   "outputs": [],
   "source": [
    "payload = {u'action': u'created', u'comment': {u'body': u'@bot generate dns', u'url': u'https://api.github.com/repos/indyavik/azuresdk/issues/comments/305305608', u'created_at': u'2017-05-31T20:22:10Z', u'html_url': u'https://github.com/indyavik/azuresdk/pull/1#issuecomment-305305608', u'updated_at': u'2017-05-31T20:22:10Z', u'user': {u'following_url': u'https://api.github.com/users/indyavik/following{/other_user}', u'events_url': u'https://api.github.com/users/indyavik/events{/privacy}', u'organizations_url': u'https://api.github.com/users/indyavik/orgs', u'url': u'https://api.github.com/users/indyavik', u'gists_url': u'https://api.github.com/users/indyavik/gists{/gist_id}', u'html_url': u'https://github.com/indyavik', u'subscriptions_url': u'https://api.github.com/users/indyavik/subscriptions', u'avatar_url': u'https://avatars2.githubusercontent.com/u/729567?v=3', u'repos_url': u'https://api.github.com/users/indyavik/repos', u'received_events_url': u'https://api.github.com/users/indyavik/received_events', u'gravatar_id': u'', u'starred_url': u'https://api.github.com/users/indyavik/starred{/owner}{/repo}', u'site_admin': False, u'login': u'indyavik', u'type': u'User', u'id': 729567, u'followers_url': u'https://api.github.com/users/indyavik/followers'}, u'id': 305305608, u'issue_url': u'https://api.github.com/repos/indyavik/azuresdk/issues/1'}, u'issue': {u'labels': [], u'number': 1, u'assignee': None, u'repository_url': u'https://api.github.com/repos/indyavik/azuresdk', u'closed_at': None, u'id': 232683780, u'title': u'Bottest', u'pull_request': {u'url': u'https://api.github.com/repos/indyavik/azuresdk/pulls/1', u'diff_url': u'https://github.com/indyavik/azuresdk/pull/1.diff', u'html_url': u'https://github.com/indyavik/azuresdk/pull/1', u'patch_url': u'https://github.com/indyavik/azuresdk/pull/1.patch'}, u'comments': 0, u'state': u'open', u'body': u'creating first PR', u'labels_url': u'https://api.github.com/repos/indyavik/azuresdk/issues/1/labels{/name}', u'events_url': u'https://api.github.com/repos/indyavik/azuresdk/issues/1/events', u'comments_url': u'https://api.github.com/repos/indyavik/azuresdk/issues/1/comments', u'html_url': u'https://github.com/indyavik/azuresdk/pull/1', u'updated_at': u'2017-05-31T20:22:10Z', u'user': {u'following_url': u'https://api.github.com/users/indyavik/following{/other_user}', u'events_url': u'https://api.github.com/users/indyavik/events{/privacy}', u'organizations_url': u'https://api.github.com/users/indyavik/orgs', u'url': u'https://api.github.com/users/indyavik', u'gists_url': u'https://api.github.com/users/indyavik/gists{/gist_id}', u'html_url': u'https://github.com/indyavik', u'subscriptions_url': u'https://api.github.com/users/indyavik/subscriptions', u'avatar_url': u'https://avatars2.githubusercontent.com/u/729567?v=3', u'repos_url': u'https://api.github.com/users/indyavik/repos', u'received_events_url': u'https://api.github.com/users/indyavik/received_events', u'gravatar_id': u'', u'starred_url': u'https://api.github.com/users/indyavik/starred{/owner}{/repo}', u'site_admin': False, u'login': u'indyavik', u'type': u'User', u'id': 729567, u'followers_url': u'https://api.github.com/users/indyavik/followers'}, u'milestone': None, u'locked': False, u'url': u'https://api.github.com/repos/indyavik/azuresdk/issues/1', u'created_at': u'2017-05-31T20:20:32Z', u'assignees': []}, u'sender': {u'following_url': u'https://api.github.com/users/indyavik/following{/other_user}', u'events_url': u'https://api.github.com/users/indyavik/events{/privacy}', u'organizations_url': u'https://api.github.com/users/indyavik/orgs', u'url': u'https://api.github.com/users/indyavik', u'gists_url': u'https://api.github.com/users/indyavik/gists{/gist_id}', u'html_url': u'https://github.com/indyavik', u'subscriptions_url': u'https://api.github.com/users/indyavik/subscriptions', u'avatar_url': u'https://avatars2.githubusercontent.com/u/729567?v=3', u'repos_url': u'https://api.github.com/users/indyavik/repos', u'received_events_url': u'https://api.github.com/users/indyavik/received_events', u'gravatar_id': u'', u'starred_url': u'https://api.github.com/users/indyavik/starred{/owner}{/repo}', u'site_admin': False, u'login': u'indyavik', u'type': u'User', u'id': 729567, u'followers_url': u'https://api.github.com/users/indyavik/followers'}, u'repository': {u'issues_url': u'https://api.github.com/repos/indyavik/azuresdk/issues{/number}', u'deployments_url': u'https://api.github.com/repos/indyavik/azuresdk/deployments', u'stargazers_count': 0, u'forks_url': u'https://api.github.com/repos/indyavik/azuresdk/forks', u'mirror_url': None, u'subscription_url': u'https://api.github.com/repos/indyavik/azuresdk/subscription', u'notifications_url': u'https://api.github.com/repos/indyavik/azuresdk/notifications{?since,all,participating}', u'collaborators_url': u'https://api.github.com/repos/indyavik/azuresdk/collaborators{/collaborator}', u'updated_at': u'2017-05-31T19:38:05Z', u'private': True, u'pulls_url': u'https://api.github.com/repos/indyavik/azuresdk/pulls{/number}', u'issue_comment_url': u'https://api.github.com/repos/indyavik/azuresdk/issues/comments{/number}', u'labels_url': u'https://api.github.com/repos/indyavik/azuresdk/labels{/name}', u'has_wiki': True, u'full_name': u'indyavik/azuresdk', u'owner': {u'following_url': u'https://api.github.com/users/indyavik/following{/other_user}', u'events_url': u'https://api.github.com/users/indyavik/events{/privacy}', u'organizations_url': u'https://api.github.com/users/indyavik/orgs', u'url': u'https://api.github.com/users/indyavik', u'gists_url': u'https://api.github.com/users/indyavik/gists{/gist_id}', u'html_url': u'https://github.com/indyavik', u'subscriptions_url': u'https://api.github.com/users/indyavik/subscriptions', u'avatar_url': u'https://avatars2.githubusercontent.com/u/729567?v=3', u'repos_url': u'https://api.github.com/users/indyavik/repos', u'received_events_url': u'https://api.github.com/users/indyavik/received_events', u'gravatar_id': u'', u'starred_url': u'https://api.github.com/users/indyavik/starred{/owner}{/repo}', u'site_admin': False, u'login': u'indyavik', u'type': u'User', u'id': 729567, u'followers_url': u'https://api.github.com/users/indyavik/followers'}, u'statuses_url': u'https://api.github.com/repos/indyavik/azuresdk/statuses/{sha}', u'id': 92858216, u'keys_url': u'https://api.github.com/repos/indyavik/azuresdk/keys{/key_id}', u'description': None, u'tags_url': u'https://api.github.com/repos/indyavik/azuresdk/tags', u'downloads_url': u'https://api.github.com/repos/indyavik/azuresdk/downloads', u'assignees_url': u'https://api.github.com/repos/indyavik/azuresdk/assignees{/user}', u'contents_url': u'https://api.github.com/repos/indyavik/azuresdk/contents/{+path}', u'has_pages': False, u'git_refs_url': u'https://api.github.com/repos/indyavik/azuresdk/git/refs{/sha}', u'open_issues_count': 1, u'has_projects': True, u'clone_url': u'https://github.com/indyavik/azuresdk.git', u'watchers_count': 0, u'git_tags_url': u'https://api.github.com/repos/indyavik/azuresdk/git/tags{/sha}', u'milestones_url': u'https://api.github.com/repos/indyavik/azuresdk/milestones{/number}', u'languages_url': u'https://api.github.com/repos/indyavik/azuresdk/languages', u'size': 0, u'homepage': None, u'fork': False, u'commits_url': u'https://api.github.com/repos/indyavik/azuresdk/commits{/sha}', u'releases_url': u'https://api.github.com/repos/indyavik/azuresdk/releases{/id}', u'issue_events_url': u'https://api.github.com/repos/indyavik/azuresdk/issues/events{/number}', u'archive_url': u'https://api.github.com/repos/indyavik/azuresdk/{archive_format}{/ref}', u'comments_url': u'https://api.github.com/repos/indyavik/azuresdk/comments{/number}', u'events_url': u'https://api.github.com/repos/indyavik/azuresdk/events', u'contributors_url': u'https://api.github.com/repos/indyavik/azuresdk/contributors', u'html_url': u'https://github.com/indyavik/azuresdk', u'forks': 0, u'compare_url': u'https://api.github.com/repos/indyavik/azuresdk/compare/{base}...{head}', u'open_issues': 1, u'git_url': u'git://github.com/indyavik/azuresdk.git', u'svn_url': u'https://github.com/indyavik/azuresdk', u'merges_url': u'https://api.github.com/repos/indyavik/azuresdk/merges', u'has_issues': True, u'ssh_url': u'git@github.com:indyavik/azuresdk.git', u'blobs_url': u'https://api.github.com/repos/indyavik/azuresdk/git/blobs{/sha}', u'git_commits_url': u'https://api.github.com/repos/indyavik/azuresdk/git/commits{/sha}', u'hooks_url': u'https://api.github.com/repos/indyavik/azuresdk/hooks', u'has_downloads': True, u'watchers': 0, u'name': u'azuresdk', u'language': u'Python', u'url': u'https://api.github.com/repos/indyavik/azuresdk', u'created_at': u'2017-05-30T17:23:37Z', u'pushed_at': u'2017-05-31T20:20:32Z', u'forks_count': 0, u'default_branch': u'master', u'teams_url': u'https://api.github.com/repos/indyavik/azuresdk/teams', u'trees_url': u'https://api.github.com/repos/indyavik/azuresdk/git/trees{/sha}', u'branches_url': u'https://api.github.com/repos/indyavik/azuresdk/branches{/branch}', u'subscribers_url': u'https://api.github.com/repos/indyavik/azuresdk/subscribers', u'stargazers_url': u'https://api.github.com/repos/indyavik/azuresdk/stargazers'}}"
   ]
  },
  {
   "cell_type": "code",
   "execution_count": 65,
   "metadata": {
    "collapsed": true
   },
   "outputs": [],
   "source": [
    "def request_helper(url, access_token=None):\n",
    "    \"\"\"\n",
    "    helper function/method to call API using request and return JSON encoded object. \n",
    "    if fails or gets 404, raises error. \n",
    "    \n",
    "    \"\"\"\n",
    "    if not access_token:\n",
    "        access_token = '767d1a76e004ec56d5d57c7394974a9e6b7a6a0e'\n",
    "        \n",
    "    r = requests.get(url, auth=('username', access_token))\n",
    "    \n",
    "    if r.status_code != 200:\n",
    "        return \n",
    "    \n",
    "    else:\n",
    "        return r.json()"
   ]
  },
  {
   "cell_type": "code",
   "execution_count": 66,
   "metadata": {},
   "outputs": [
    {
     "name": "stdout",
     "output_type": "stream",
     "text": [
      "https://api.github.com/repos/indyavik/azuresdk/pulls/1\n"
     ]
    }
   ],
   "source": [
    "pr_url = payload['issue']['pull_request'].get('url') \n",
    "print(pr_url)\n",
    "pr_json = request_helper(pr_url)"
   ]
  },
  {
   "cell_type": "code",
   "execution_count": 68,
   "metadata": {},
   "outputs": [
    {
     "data": {
      "text/plain": [
       "'bottest'"
      ]
     },
     "execution_count": 68,
     "metadata": {},
     "output_type": "execute_result"
    }
   ],
   "source": [
    "pr_json['head']['label'].split(':')[1]"
   ]
  },
  {
   "cell_type": "code",
   "execution_count": 97,
   "metadata": {
    "collapsed": true
   },
   "outputs": [],
   "source": [
    "os.environ[\"token\"] = \"767d1a76e004ec56d5d57c7394974a9e6b7a6a0e\""
   ]
  },
  {
   "cell_type": "code",
   "execution_count": 28,
   "metadata": {},
   "outputs": [
    {
     "ename": "TypeError",
     "evalue": "__init__() missing 1 required positional argument: 'requester'",
     "output_type": "error",
     "traceback": [
      "\u001b[0;31m---------------------------------------------------------------------------\u001b[0m",
      "\u001b[0;31mTypeError\u001b[0m                                 Traceback (most recent call last)",
      "\u001b[0;32m<ipython-input-28-a9dc44b6e3c5>\u001b[0m in \u001b[0;36m<module>\u001b[0;34m()\u001b[0m\n\u001b[1;32m     15\u001b[0m \u001b[0;34m\u001b[0m\u001b[0m\n\u001b[1;32m     16\u001b[0m \u001b[0mloop\u001b[0m \u001b[0;34m=\u001b[0m \u001b[0masyncio\u001b[0m\u001b[0;34m.\u001b[0m\u001b[0mget_event_loop\u001b[0m\u001b[0;34m(\u001b[0m\u001b[0;34m)\u001b[0m\u001b[0;34m\u001b[0m\u001b[0m\n\u001b[0;32m---> 17\u001b[0;31m \u001b[0my\u001b[0m \u001b[0;34m=\u001b[0m \u001b[0mloop\u001b[0m\u001b[0;34m.\u001b[0m\u001b[0mrun_until_complete\u001b[0m\u001b[0;34m(\u001b[0m\u001b[0mtest_get\u001b[0m\u001b[0;34m(\u001b[0m\u001b[0;34m)\u001b[0m\u001b[0;34m)\u001b[0m\u001b[0;34m\u001b[0m\u001b[0m\n\u001b[0m\u001b[1;32m     18\u001b[0m \u001b[0;34m\u001b[0m\u001b[0m\n",
      "\u001b[0;32m/Users/vik/miniconda/envs/py36/lib/python3.6/asyncio/base_events.py\u001b[0m in \u001b[0;36mrun_until_complete\u001b[0;34m(self, future)\u001b[0m\n\u001b[1;32m    464\u001b[0m             \u001b[0;32mraise\u001b[0m \u001b[0mRuntimeError\u001b[0m\u001b[0;34m(\u001b[0m\u001b[0;34m'Event loop stopped before Future completed.'\u001b[0m\u001b[0;34m)\u001b[0m\u001b[0;34m\u001b[0m\u001b[0m\n\u001b[1;32m    465\u001b[0m \u001b[0;34m\u001b[0m\u001b[0m\n\u001b[0;32m--> 466\u001b[0;31m         \u001b[0;32mreturn\u001b[0m \u001b[0mfuture\u001b[0m\u001b[0;34m.\u001b[0m\u001b[0mresult\u001b[0m\u001b[0;34m(\u001b[0m\u001b[0;34m)\u001b[0m\u001b[0;34m\u001b[0m\u001b[0m\n\u001b[0m\u001b[1;32m    467\u001b[0m \u001b[0;34m\u001b[0m\u001b[0m\n\u001b[1;32m    468\u001b[0m     \u001b[0;32mdef\u001b[0m \u001b[0mstop\u001b[0m\u001b[0;34m(\u001b[0m\u001b[0mself\u001b[0m\u001b[0;34m)\u001b[0m\u001b[0;34m:\u001b[0m\u001b[0;34m\u001b[0m\u001b[0m\n",
      "\u001b[0;32m<ipython-input-28-a9dc44b6e3c5>\u001b[0m in \u001b[0;36mtest_get\u001b[0;34m()\u001b[0m\n\u001b[1;32m      4\u001b[0m         \u001b[0masync\u001b[0m \u001b[0;32mwith\u001b[0m \u001b[0maiohttp\u001b[0m\u001b[0;34m.\u001b[0m\u001b[0mClientSession\u001b[0m\u001b[0;34m(\u001b[0m\u001b[0;34m)\u001b[0m \u001b[0;32mas\u001b[0m \u001b[0msession\u001b[0m\u001b[0;34m:\u001b[0m\u001b[0;34m\u001b[0m\u001b[0m\n\u001b[1;32m      5\u001b[0m             gh = gidgethub.aiohttp.GitHubAPI(session, \n\u001b[0;32m----> 6\u001b[0;31m                                      oauth_token=\"0e1476fa7879ddea0d6d7c4b5c7456ab90db6543\")\n\u001b[0m\u001b[1;32m      7\u001b[0m \u001b[0;34m\u001b[0m\u001b[0m\n\u001b[1;32m      8\u001b[0m             \u001b[0;32mtry\u001b[0m\u001b[0;34m:\u001b[0m\u001b[0;34m\u001b[0m\u001b[0m\n",
      "\u001b[0;31mTypeError\u001b[0m: __init__() missing 1 required positional argument: 'requester'"
     ]
    }
   ],
   "source": [
    "async def test_get():\n",
    "    \"\"\"Integration test.\"\"\"\n",
    "    async with aiohttp.ClientSession() as session:\n",
    "        async with aiohttp.ClientSession() as session:\n",
    "            gh = gidgethub.aiohttp.GitHubAPI(session, 'username'\n",
    "                                     oauth_token=\"0e1476fa7879ddea0d6d7c4b5c7456ab90db6543\")\n",
    "        \n",
    "            try:\n",
    "                data = await gh.getitem(\"https://api.github.com/repos/Azure/azure-rest-api-specs/pulls/1012\")\n",
    "                print (data)\n",
    "                return data\n",
    "            except gidgethub.BadRequest as exc:\n",
    "                print('y')\n",
    "                print(exc.status_code)\n",
    "                \n",
    "loop = asyncio.get_event_loop()\n",
    "y = loop.run_until_complete(test_get())\n",
    "            "
   ]
  },
  {
   "cell_type": "code",
   "execution_count": 144,
   "metadata": {
    "collapsed": true
   },
   "outputs": [],
   "source": [
    "def decorate_credentials(oauth_token):\n",
    "    def actual_decorator(f):\n",
    "        \"\"\"Decorator to add github credentials and base urls as variables\"\"\"\n",
    "        @wraps(f)\n",
    "        def decorated(*args, **kwargs):\n",
    "            #spec_api_repo_url, sdk_repo_url, username, credentials\n",
    "            kwargs['sdk_repo_url'] = 'https://raw.githubusercontent.com/Azure/azure-sdk-for-python'\n",
    "\n",
    "            #target repo =repo where labels are added/issues are assigned. \n",
    "            kwargs['target_repo'] = 'https://api.github.com/repos/indyavik/azuresdk'\n",
    "\n",
    "            kwargs['oauth_token'] = oauth_token\n",
    "\n",
    "            return f(*args, **kwargs)\n",
    "\n",
    "        return decorated\n",
    "    return actual_decorator"
   ]
  },
  {
   "cell_type": "code",
   "execution_count": 136,
   "metadata": {
    "collapsed": true
   },
   "outputs": [],
   "source": []
  },
  {
   "cell_type": "code",
   "execution_count": 167,
   "metadata": {},
   "outputs": [
    {
     "name": "stdout",
     "output_type": "stream",
     "text": [
      "{'Ans': 'docker run swagger-to-sdk dns -p dns -b bottest'}\n"
     ]
    }
   ],
   "source": [
    "@decorate_credentials(token)\n",
    "async def at_generate(event_data_dict, **kwargs):\n",
    "    \"\"\"Response to comments such as '@bot generate dns' \"\"\"\n",
    "    \n",
    "    pr_url = event_data_dict['issue']['pull_request'].get('url') \n",
    "    repo = event_data_dict['repository'].get('full_name')\n",
    "    comment = event_data_dict['comment']['body']\n",
    "    action_body = comment.split(' ')[2:]\n",
    "    repo =  action_body[0]\n",
    "  \n",
    "    #get branch name via github api \n",
    "    async with aiohttp.ClientSession() as session:\n",
    "        async with aiohttp.ClientSession() as session:\n",
    "            #gh = gidgethub.aiohttp.GitHubAPI(session, 'indyavik',oauth_token=\"767d1a76e004ec56d5d57c7394974a9e6b7a6a0e\")\n",
    "            gh = gidgethub.aiohttp.GitHubAPI(session, 'indyavik',oauth_token=kwargs['oauth_token'])\n",
    "            try:\n",
    "                data = await gh.getitem(pr_url)\n",
    "                branch = data['head']['label'].split(':')[1] #e.g. 'bottest'\n",
    "                \n",
    "            except gidgethub.BadRequest as exc:\n",
    "                print(exc.status_code)\n",
    "                return {'Err' : exc.status_code }\n",
    "                \n",
    "        if branch:\n",
    "                generated_action = \"docker run swagger-to-sdk {} -p {} -b {}\".format(repo, repo, branch)\n",
    "                return {'Ans' : generated_action }\n",
    "                \n",
    "                \n",
    "print(loop.run_until_complete(at_generate(payload)))"
   ]
  },
  {
   "cell_type": "code",
   "execution_count": 122,
   "metadata": {},
   "outputs": [
    {
     "name": "stdout",
     "output_type": "stream",
     "text": [
      "Hello!\n"
     ]
    }
   ],
   "source": [
    "print_message('b')"
   ]
  },
  {
   "cell_type": "code",
   "execution_count": null,
   "metadata": {
    "collapsed": true
   },
   "outputs": [],
   "source": [
    "def get_key_folder_params_v3(git_url, azure_folder_path):\n",
    "    \"\"\"\n",
    "    Given an azure api spec folder (which is a package) name, returns some key parameters for that package. \n",
    "    1) composite status. if there is a .json file in root folder. this will be yes. \n",
    "    2) most recent sub folder (2015-10-11 is more recent than 2014-10-09)\n",
    "    3) gets the swagger file. ??\n",
    "    \"\"\" \n",
    "    async with aiohttp.ClientSession() as session:\n",
    "        gh = gidgethub.aiohttp.GitHubAPI(session, 'indyavik',oauth_token=kwargs['oauth_token'])\n",
    "        rcomposite = gh.get(git_url + 'contents/' + azure_folder_path)\n",
    "        \n",
    "        \n",
    "    rcomposite = request_helper(git_url + 'contents/' + azure_folder_path )\n",
    "    \n",
    "    if not rcomposite:\n",
    "        return None\n",
    "    \n",
    "    most_recent_composite_status = 'No' \n",
    "    swagger = None\n",
    "    folders =[]\n",
    "    for r in rcomposite:\n",
    "        path = r['path']\n",
    "        folder = path.split(azure_folder_path +'/')[1]\n",
    "        if folder.startswith('20') or folder.startswith('/20'): \n",
    "            folders.append(folder)\n",
    "        if '.json' in path:\n",
    "            most_recent_composite_status = 'Yes'\n",
    "            swagger=path\n",
    "  \n",
    "    if not swagger and folders:\n",
    "        r_file = request_helper(git_url + 'contents/' + azure_folder_path + '/' + folders[-1] + '/swagger/')\n",
    "        swagger =''\n",
    "        for r in r_file:\n",
    "            #print r\n",
    "            if '.json' in r.get('name'):\n",
    "                swagger = r.get('path')\n",
    "        #swagger = r_file[0]['path']\n",
    "        \n",
    "            \n",
    "    return(most_recent_composite_status, sorted(folders), swagger)"
   ]
  },
  {
   "cell_type": "code",
   "execution_count": 161,
   "metadata": {
    "collapsed": true
   },
   "outputs": [],
   "source": [
    "oauth_token=\"767d1a76e004ec56d5d57c7394974a9e6b7a6a0e\""
   ]
  },
  {
   "cell_type": "code",
   "execution_count": 7,
   "metadata": {
    "collapsed": true
   },
   "outputs": [],
   "source": [
    "async def get_azure_folder_param(git_url, azure_folder_name, gituser, gittoken ):\n",
    "    \n",
    "    async with aiohttp.ClientSession() as session:\n",
    "        gh = gidgethub.aiohttp.GitHubAPI(session, gituser ,oauth_token=gittoken)\n",
    "        try:\n",
    "            rcomposite = await gh.getitem(git_url + 'contents/' + azure_folder_name)\n",
    "\n",
    "            if not rcomposite:\n",
    "                return None \n",
    "            #print(rcomposite)\n",
    "            most_recent_composite_status = 'No' \n",
    "            swagger = None\n",
    "            folders =[]\n",
    "\n",
    "            for r in rcomposite:\n",
    "                path = r['path']\n",
    "                folder = path.split(azure_folder_name +'/')[1]\n",
    "\n",
    "                if folder.startswith('20') or folder.startswith('/20'): \n",
    "                    folders.append(folder)\n",
    "\n",
    "                if '.json' in path:\n",
    "                    most_recent_composite_status = 'Yes'\n",
    "                    swagger=path\n",
    "\n",
    "            if not swagger and folders:\n",
    "                target_url = git_url + 'contents/' + azure_folder_name + '/' + folders[-1] + '/swagger/'\n",
    "                #target_url =git_url + 'contents/' + 'arm-dns' + '/' + folders[-1] + '/swagger/'\n",
    "                #r_file = request_helper(git_url + 'contents/' + azure_folder_path + '/' + folders[-1] + '/swagger/')\n",
    "                r_file = await gh.getitem(target_url)\n",
    "                swagger =''\n",
    "                for r in r_file:\n",
    "                    #print r\n",
    "                    if '.json' in r.get('name'):\n",
    "                        swagger = r.get('path')\n",
    "\n",
    "\n",
    "\n",
    "        except gidgethub.BadRequest as exc:\n",
    "            print(exc.status_code)\n",
    "            return {'Err' : exc.status_code }\n",
    "        \n",
    "        \n",
    "        return (most_recent_composite_status, sorted(folders), swagger)\n",
    "\n",
    "            "
   ]
  },
  {
   "cell_type": "code",
   "execution_count": 10,
   "metadata": {},
   "outputs": [
    {
     "name": "stdout",
     "output_type": "stream",
     "text": [
      "No ['2015-05-04-preview', '2016-04-01'] arm-dns/2016-04-01/swagger/dns.json\n"
     ]
    }
   ],
   "source": [
    "#No ['2015-05-04-preview', '2016-04-01'] arm-dns/2016-04-01/swagger/dns.json\n",
    "#async def test_gh(git_url, azure_folder_name, gituser, gittoken ):\n",
    "loop.run_until_complete(test_gh(git_url, 'arm-dns', 'indyavik', oauth_token))"
   ]
  },
  {
   "cell_type": "code",
   "execution_count": 12,
   "metadata": {},
   "outputs": [
    {
     "data": {
      "text/plain": [
       "['@bot', 'list']"
      ]
     },
     "execution_count": 12,
     "metadata": {},
     "output_type": "execute_result"
    }
   ],
   "source": [
    "comment = '@bot list dns'\n",
    "x.split(' ')[0:2]\n",
    "    "
   ]
  },
  {
   "cell_type": "code",
   "execution_count": 20,
   "metadata": {},
   "outputs": [
    {
     "ename": "NameError",
     "evalue": "name 'typle' is not defined",
     "output_type": "error",
     "traceback": [
      "\u001b[0;31m---------------------------------------------------------------------------\u001b[0m",
      "\u001b[0;31mNameError\u001b[0m                                 Traceback (most recent call last)",
      "\u001b[0;32m<ipython-input-20-4c6dddd78300>\u001b[0m in \u001b[0;36m<module>\u001b[0;34m()\u001b[0m\n\u001b[0;32m----> 1\u001b[0;31m \u001b[0matbot\u001b[0m\u001b[0;34m,\u001b[0m \u001b[0mcomment_action\u001b[0m \u001b[0;34m=\u001b[0m \u001b[0mtyple\u001b[0m\u001b[0;34m(\u001b[0m\u001b[0mcomment\u001b[0m\u001b[0;34m.\u001b[0m\u001b[0msplit\u001b[0m\u001b[0;34m(\u001b[0m\u001b[0;34m' '\u001b[0m\u001b[0;34m)\u001b[0m\u001b[0;34m[\u001b[0m\u001b[0;36m0\u001b[0m\u001b[0;34m:\u001b[0m\u001b[0;36m2\u001b[0m\u001b[0;34m]\u001b[0m\u001b[0;34m)\u001b[0m\u001b[0;34m\u001b[0m\u001b[0m\n\u001b[0m\u001b[1;32m      2\u001b[0m \u001b[0mprint\u001b[0m\u001b[0;34m(\u001b[0m\u001b[0mcomment_action\u001b[0m\u001b[0;34m)\u001b[0m\u001b[0;34m\u001b[0m\u001b[0m\n",
      "\u001b[0;31mNameError\u001b[0m: name 'typle' is not defined"
     ]
    }
   ],
   "source": [
    "atbot, comment_action = typle(comment.split(' ')[0:2])\n",
    "print(comment_action)"
   ]
  },
  {
   "cell_type": "code",
   "execution_count": 19,
   "metadata": {},
   "outputs": [
    {
     "data": {
      "text/plain": [
       "('@bot', 'list')"
      ]
     },
     "execution_count": 19,
     "metadata": {},
     "output_type": "execute_result"
    }
   ],
   "source": [
    "tuple(comment.split(' ')[0:2])"
   ]
  },
  {
   "cell_type": "code",
   "execution_count": 18,
   "metadata": {},
   "outputs": [
    {
     "data": {
      "text/plain": [
       "list"
      ]
     },
     "execution_count": 18,
     "metadata": {},
     "output_type": "execute_result"
    }
   ],
   "source": [
    "type(y)"
   ]
  },
  {
   "cell_type": "code",
   "execution_count": 21,
   "metadata": {},
   "outputs": [
    {
     "data": {
      "text/plain": [
       "['dns']"
      ]
     },
     "execution_count": 21,
     "metadata": {},
     "output_type": "execute_result"
    }
   ],
   "source": [
    "comment.split(' ')[2:]\n"
   ]
  },
  {
   "cell_type": "code",
   "execution_count": null,
   "metadata": {
    "collapsed": true
   },
   "outputs": [],
   "source": []
  }
 ],
 "metadata": {
  "kernelspec": {
   "display_name": "Python 3",
   "language": "python",
   "name": "python3"
  },
  "language_info": {
   "codemirror_mode": {
    "name": "ipython",
    "version": 3
   },
   "file_extension": ".py",
   "mimetype": "text/x-python",
   "name": "python",
   "nbconvert_exporter": "python",
   "pygments_lexer": "ipython3",
   "version": "3.6.1"
  }
 },
 "nbformat": 4,
 "nbformat_minor": 2
}
