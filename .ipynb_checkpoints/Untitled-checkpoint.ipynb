{
 "cells": [
  {
   "cell_type": "code",
   "execution_count": 3,
   "metadata": {
    "collapsed": true
   },
   "outputs": [],
   "source": [
    "import requests, json\n",
    "import asyncio\n",
    "import http\n",
    "import io\n",
    "import json\n",
    "import re\n",
    "import os\n",
    "from functools import wraps\n",
    "\n",
    "import aiohttp\n",
    "import gidgethub\n",
    "import gidgethub.aiohttp\n",
    "git_url = 'https://api.github.com/repos/Azure/azure-rest-api-specs/'"
   ]
  },
  {
   "cell_type": "code",
   "execution_count": 5,
   "metadata": {
    "collapsed": true
   },
   "outputs": [],
   "source": [
    "async def get_azure_folder_params(git_url, azure_folder_name):\n",
    "    \n",
    "    async with aiohttp.ClientSession() as session:\n",
    "\n",
    "        gh = gidgethub.aiohttp.GitHubAPI(session, 'username' ,oauth_token=os.environ.get('TOKEN'))\n",
    "        try:\n",
    "            rcomposite = await gh.getitem(git_url + 'contents/' + azure_folder_name)\n",
    "        \n",
    "            if not rcomposite:\n",
    "                return None \n",
    "            #print(rcomposite)\n",
    "            most_recent_composite_status = 'No' \n",
    "            swagger = None\n",
    "            folders =[]\n",
    "\n",
    "            for r in rcomposite:\n",
    "                print(r)\n",
    "                path = r['path']\n",
    "                print(path)\n",
    "                folder = path.split(azure_folder_name +'/')[1]\n",
    "\n",
    "                if folder.startswith('20') or folder.startswith('/20'): \n",
    "                    folders.append(folder)\n",
    "\n",
    "                if '.json' in path:\n",
    "                    most_recent_composite_status = 'Yes'\n",
    "                    swagger=path\n",
    "\n",
    "            if not swagger and folders:\n",
    "                target_url = git_url + 'contents/' + azure_folder_name + '/' + folders[-1] + '/swagger/'\n",
    "\n",
    "                r_file = await gh.getitem(target_url)\n",
    "                swagger =''\n",
    "                for r in r_file:\n",
    "                    #print r\n",
    "                    if '.json' in r.get('name'):\n",
    "                        swagger = r.get('path')\n",
    "\n",
    "\n",
    "        except gidgethub.BadRequest as exc:\n",
    "            print(exc.status_code)\n",
    "            return \"Error\" + exc.status_code\n",
    "        \n",
    "        \n",
    "        return (most_recent_composite_status, sorted(folders), swagger)"
   ]
  },
  {
   "cell_type": "code",
   "execution_count": 6,
   "metadata": {},
   "outputs": [
    {
     "data": {
      "text/plain": [
       "<coroutine object get_azure_folder_params at 0x10d85d678>"
      ]
     },
     "execution_count": 6,
     "metadata": {},
     "output_type": "execute_result"
    }
   ],
   "source": [
    "get_azure_folder_params(git_url, 'arm-cdn')"
   ]
  },
  {
   "cell_type": "code",
   "execution_count": null,
   "metadata": {
    "collapsed": true
   },
   "outputs": [],
   "source": []
  }
 ],
 "metadata": {
  "kernelspec": {
   "display_name": "Python 3",
   "language": "python",
   "name": "python3"
  },
  "language_info": {
   "codemirror_mode": {
    "name": "ipython",
    "version": 3
   },
   "file_extension": ".py",
   "mimetype": "text/x-python",
   "name": "python",
   "nbconvert_exporter": "python",
   "pygments_lexer": "ipython3",
   "version": "3.6.1"
  }
 },
 "nbformat": 4,
 "nbformat_minor": 2
}
