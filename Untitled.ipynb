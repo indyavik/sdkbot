{
 "cells": [
  {
   "cell_type": "code",
   "execution_count": 11,
   "metadata": {
    "collapsed": true
   },
   "outputs": [],
   "source": [
    "import requests, json\n",
    "import asyncio\n",
    "import http\n",
    "import io\n",
    "import json\n",
    "import re\n",
    "import os\n",
    "from functools import wraps\n",
    "\n",
    "import aiohttp\n",
    "import gidgethub\n",
    "import gidgethub.aiohttp\n",
    "git_url = 'https://api.github.com/repos/Azure/azure-rest-api-specs/'\n",
    "token='c83e5a49f691ad82d34df75d71b7ac076158dc21'"
   ]
  },
  {
   "cell_type": "code",
   "execution_count": 14,
   "metadata": {
    "collapsed": true
   },
   "outputs": [],
   "source": [
    "async def get_azure_folder_params(git_url, azure_folder_name):\n",
    "    \n",
    "    async with aiohttp.ClientSession() as session:\n",
    "\n",
    "        gh = gidgethub.aiohttp.GitHubAPI(session, 'username' ,oauth_token=token)\n",
    "        \n",
    "        try:\n",
    "            rcomposite = await gh.getitem(git_url + 'contents/' + azure_folder_name)\n",
    "        \n",
    "            if not rcomposite:\n",
    "                return None \n",
    "            #print(rcomposite)\n",
    "            most_recent_composite_status = 'No' \n",
    "            swagger = None\n",
    "            folders =[]\n",
    "\n",
    "            for r in rcomposite:\n",
    "                path = r['path']\n",
    "                print(path)\n",
    "                folder = path.split(azure_folder_name +'/')[1]\n",
    "\n",
    "                if folder.startswith('20') or folder.startswith('/20'): \n",
    "                    folders.append(folder)\n",
    "\n",
    "                if '.json' in path:\n",
    "                    most_recent_composite_status = 'Yes'\n",
    "                    swagger=path\n",
    "\n",
    "            if not swagger and folders:\n",
    "                target_url = git_url + 'contents/' + azure_folder_name + '/' + folders[-1] + '/swagger/'\n",
    "\n",
    "                r_file = await gh.getitem(target_url)\n",
    "                swagger =''\n",
    "                for r in r_file:\n",
    "                    #print r\n",
    "                    if '.json' in r.get('name'):\n",
    "                        swagger = r.get('path')\n",
    "\n",
    "\n",
    "        except gidgethub.BadRequest as exc:\n",
    "            print(exc.status_code)\n",
    "            return \"Error\" + exc.status_code\n",
    "        \n",
    "        \n",
    "        return (most_recent_composite_status, sorted(folders), swagger)"
   ]
  },
  {
   "cell_type": "code",
   "execution_count": 19,
   "metadata": {},
   "outputs": [
    {
     "name": "stdout",
     "output_type": "stream",
     "text": [
      "arm-cdn/2015-06-01\n",
      "arm-cdn/2016-04-02\n",
      "arm-cdn/2016-10-02\n",
      "No ['2015-06-01', '2016-04-02', '2016-10-02'] arm-cdn/2016-10-02/swagger/cdn.json\n"
     ]
    }
   ],
   "source": [
    "loop = asyncio.get_event_loop()\n",
    "\n",
    "loop.run_until_complete(get_azure_folder_params(git_url, 'arm-cdn'))"
   ]
  },
  {
   "cell_type": "code",
   "execution_count": 20,
   "metadata": {
    "collapsed": true
   },
   "outputs": [],
   "source": [
    "folder_list  = ['2015-06-01', '2016-04-02', '2016-10-02']"
   ]
  },
  {
   "cell_type": "code",
   "execution_count": 29,
   "metadata": {},
   "outputs": [
    {
     "name": "stdout",
     "output_type": "stream",
     "text": [
      "STRING:\n",
      "0:2015-06-01,1:2016-04-02,2:2016-10-02,\n"
     ]
    }
   ],
   "source": [
    "string_response = ''\n",
    "for i in range(len(folder_list)):\n",
    "    #d[str(i)] = folder_list[i]\n",
    "    string_response += str(i) +':' + folder_list[i] +','\n",
    "\n",
    "print(\"STRING:\")\n",
    "\n",
    "print(string_response)"
   ]
  },
  {
   "cell_type": "code",
   "execution_count": null,
   "metadata": {
    "collapsed": true
   },
   "outputs": [],
   "source": []
  }
 ],
 "metadata": {
  "kernelspec": {
   "display_name": "Python 3",
   "language": "python",
   "name": "python3"
  },
  "language_info": {
   "codemirror_mode": {
    "name": "ipython",
    "version": 3
   },
   "file_extension": ".py",
   "mimetype": "text/x-python",
   "name": "python",
   "nbconvert_exporter": "python",
   "pygments_lexer": "ipython3",
   "version": "3.6.1"
  }
 },
 "nbformat": 4,
 "nbformat_minor": 2
}
